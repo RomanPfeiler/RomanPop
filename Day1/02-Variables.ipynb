{
  "cells": [
    {
      "cell_type": "markdown",
      "metadata": {
        "id": "view-in-github",
        "colab_type": "text"
      },
      "source": [
        "<a href=\"https://colab.research.google.com/github/RomanPfeiler/RomanPop/blob/main/Day1/02-Variables.ipynb\" target=\"_parent\"><img src=\"https://colab.research.google.com/assets/colab-badge.svg\" alt=\"Open In Colab\"/></a>"
      ]
    },
    {
      "cell_type": "markdown",
      "id": "66ce7a2d-ac19-4dbf-9690-e6ccfe41b4cf",
      "metadata": {
        "id": "66ce7a2d-ac19-4dbf-9690-e6ccfe41b4cf"
      },
      "source": [
        "# Variables\n",
        "\n",
        "In the first chapter we just have seen how we could execute a simple code like ```a = 5```. What happens there is the definition of a variable, a symbol containing a value. This is the same principle as when we define a variable in mathematics: it's a representation of a number that can take different values and that we can re-use across equations. Just like in mathematics we can define variables of different nature. For example we can define that a variable is an integer, or a matrix or even a function.\n",
        "\n",
        "As you have seen above, Python has a very natural way of defining variables, just like in mathematics:"
      ]
    },
    {
      "cell_type": "code",
      "execution_count": 1,
      "id": "a5f45def-9bf7-4a6a-a000-f068cc84d802",
      "metadata": {
        "id": "a5f45def-9bf7-4a6a-a000-f068cc84d802"
      },
      "outputs": [],
      "source": [
        "a = 3"
      ]
    },
    {
      "cell_type": "markdown",
      "id": "6a062da5-000e-4ec2-b2c7-4cc9e541b5c7",
      "metadata": {
        "id": "6a062da5-000e-4ec2-b2c7-4cc9e541b5c7"
      },
      "source": [
        "Note that this is different from many other languages where often variables have to be defined *before* giving them a value."
      ]
    },
    {
      "cell_type": "markdown",
      "id": "be2f1926-ca1b-4dbb-a687-4b52c1848605",
      "metadata": {
        "id": "be2f1926-ca1b-4dbb-a687-4b52c1848605"
      },
      "source": [
        "If a variable has been defined and we just add it to a cell end execute, we get:"
      ]
    },
    {
      "cell_type": "code",
      "execution_count": 2,
      "id": "0e707ec1-816c-4eb3-868f-7981c09e0544",
      "metadata": {
        "id": "0e707ec1-816c-4eb3-868f-7981c09e0544",
        "outputId": "f3000435-53ce-42c0-9fd3-9550687f4eb0",
        "colab": {
          "base_uri": "https://localhost:8080/"
        }
      },
      "outputs": [
        {
          "output_type": "execute_result",
          "data": {
            "text/plain": [
              "3"
            ]
          },
          "metadata": {},
          "execution_count": 2
        }
      ],
      "source": [
        "a"
      ]
    },
    {
      "cell_type": "markdown",
      "id": "2ea635b0-bb5f-4ffb-a956-6df964776c3b",
      "metadata": {
        "id": "2ea635b0-bb5f-4ffb-a956-6df964776c3b"
      },
      "source": [
        "We see that now we get an *output* with the value ```3```. Most variables display an output when they are not involved in an operation. For example the line ```a = 3``` didn't have an output.\n",
        "\n",
        "Now we can define other variables in a new cell. Note that we can put as **many lines** of commands as we want in a single cell. Each command just need to be on a new line."
      ]
    },
    {
      "cell_type": "code",
      "execution_count": 3,
      "id": "bd710972-659a-493c-9494-4f5b5b988ce5",
      "metadata": {
        "id": "bd710972-659a-493c-9494-4f5b5b988ce5"
      },
      "outputs": [],
      "source": [
        "b = 5\n",
        "c = 2"
      ]
    },
    {
      "cell_type": "markdown",
      "id": "481a39ad-ba13-4622-b7f1-6d9fec4debac",
      "metadata": {
        "id": "481a39ad-ba13-4622-b7f1-6d9fec4debac"
      },
      "source": [
        "As variables are defined for the entire notebook we can combine information that comes from multiple cells. Here we do some basic mathematics:"
      ]
    },
    {
      "cell_type": "code",
      "execution_count": 4,
      "id": "d0dfab15-7155-4799-b2ba-39bc72034b44",
      "metadata": {
        "id": "d0dfab15-7155-4799-b2ba-39bc72034b44",
        "outputId": "29306bbb-dfe3-428b-f535-e08586f09735",
        "colab": {
          "base_uri": "https://localhost:8080/"
        }
      },
      "outputs": [
        {
          "output_type": "execute_result",
          "data": {
            "text/plain": [
              "8"
            ]
          },
          "metadata": {},
          "execution_count": 4
        }
      ],
      "source": [
        "a + b"
      ]
    },
    {
      "cell_type": "markdown",
      "id": "30bd6648-6a78-4439-b01c-2c5e75a7e1b7",
      "metadata": {
        "id": "30bd6648-6a78-4439-b01c-2c5e75a7e1b7"
      },
      "source": [
        "Here we only see the output. We can't re-use that ouput for further calculations as we didn't define a new variable to contain it. Here we do it:"
      ]
    },
    {
      "cell_type": "code",
      "execution_count": 5,
      "id": "d8d7d721-0b21-45ac-a06d-900badb3bb25",
      "metadata": {
        "id": "d8d7d721-0b21-45ac-a06d-900badb3bb25"
      },
      "outputs": [],
      "source": [
        "d = a + b"
      ]
    },
    {
      "cell_type": "code",
      "execution_count": 6,
      "id": "071dd223-47e3-489b-96f0-7c0745940a29",
      "metadata": {
        "id": "071dd223-47e3-489b-96f0-7c0745940a29",
        "outputId": "9c963357-7f90-4641-a93d-c30d01790da0",
        "colab": {
          "base_uri": "https://localhost:8080/"
        }
      },
      "outputs": [
        {
          "output_type": "execute_result",
          "data": {
            "text/plain": [
              "8"
            ]
          },
          "metadata": {},
          "execution_count": 6
        }
      ],
      "source": [
        "d"
      ]
    },
    {
      "cell_type": "markdown",
      "id": "09779ac4-e719-4a7d-b101-b23c68c60e70",
      "metadata": {
        "id": "09779ac4-e719-4a7d-b101-b23c68c60e70"
      },
      "source": [
        "```d``` is now a new variable. It is purely numerical and not a mathematical formula as the above cell could make you believe. For example if we change the value of ```a```:"
      ]
    },
    {
      "cell_type": "code",
      "execution_count": 7,
      "id": "b13f612f-f9a2-4bf0-8dae-8a9b44e29a00",
      "metadata": {
        "id": "b13f612f-f9a2-4bf0-8dae-8a9b44e29a00"
      },
      "outputs": [],
      "source": [
        "a = 100"
      ]
    },
    {
      "cell_type": "markdown",
      "id": "039d2d0d-7e53-4ddb-82ca-f46c6c27bfbf",
      "metadata": {
        "id": "039d2d0d-7e53-4ddb-82ca-f46c6c27bfbf"
      },
      "source": [
        "and check the value of ```d```:"
      ]
    },
    {
      "cell_type": "code",
      "execution_count": 8,
      "id": "1c3757c0-1896-4e4c-8f62-5980198fce43",
      "metadata": {
        "id": "1c3757c0-1896-4e4c-8f62-5980198fce43",
        "outputId": "6590cf19-46e7-4f05-8091-74fbc43d90f2",
        "colab": {
          "base_uri": "https://localhost:8080/"
        }
      },
      "outputs": [
        {
          "output_type": "execute_result",
          "data": {
            "text/plain": [
              "8"
            ]
          },
          "metadata": {},
          "execution_count": 8
        }
      ],
      "source": [
        "d"
      ]
    },
    {
      "cell_type": "markdown",
      "id": "af99b1fd-33ff-43f8-a0fb-c1433bba7c99",
      "metadata": {
        "id": "af99b1fd-33ff-43f8-a0fb-c1433bba7c99"
      },
      "source": [
        "it has not changed. We would have to rerun the operation and assign it again to ```d``` for it to update:"
      ]
    },
    {
      "cell_type": "code",
      "execution_count": 9,
      "id": "65deff88-bef2-457d-9eef-7fe312a6552c",
      "metadata": {
        "id": "65deff88-bef2-457d-9eef-7fe312a6552c",
        "outputId": "416c7eb1-d16c-45e0-f19e-821e95c8fa87",
        "colab": {
          "base_uri": "https://localhost:8080/"
        }
      },
      "outputs": [
        {
          "output_type": "execute_result",
          "data": {
            "text/plain": [
              "105"
            ]
          },
          "metadata": {},
          "execution_count": 9
        }
      ],
      "source": [
        "d = a + b\n",
        "d"
      ]
    },
    {
      "cell_type": "markdown",
      "id": "3c3871a7",
      "metadata": {
        "id": "3c3871a7"
      },
      "source": [
        "## Type inference\n",
        "\n",
        "When we write ```a = 5``` we don't explictly say what **type** of variable we want. By type we mean: do we want an integer number, a floating type number etc. This work is done by Python, which infers what we want. We can use the ```type``` function to get the type of a variable:"
      ]
    },
    {
      "cell_type": "code",
      "execution_count": 10,
      "id": "a096c866",
      "metadata": {
        "id": "a096c866",
        "outputId": "4d1164e3-af68-4c8b-d334-2ff9c6fc7380",
        "colab": {
          "base_uri": "https://localhost:8080/"
        }
      },
      "outputs": [
        {
          "output_type": "execute_result",
          "data": {
            "text/plain": [
              "int"
            ]
          },
          "metadata": {},
          "execution_count": 10
        }
      ],
      "source": [
        "type(a)"
      ]
    },
    {
      "cell_type": "markdown",
      "id": "2852233b",
      "metadata": {
        "id": "2852233b"
      },
      "source": [
        "Let's try to define a variable of a different type, for example a floating point number:"
      ]
    },
    {
      "cell_type": "code",
      "execution_count": 11,
      "id": "4a7bda1b",
      "metadata": {
        "id": "4a7bda1b"
      },
      "outputs": [],
      "source": [
        "e = 2.5"
      ]
    },
    {
      "cell_type": "code",
      "execution_count": 12,
      "id": "bda06064",
      "metadata": {
        "id": "bda06064",
        "outputId": "4425af73-3e80-40fc-8760-fdb47935e8b3",
        "colab": {
          "base_uri": "https://localhost:8080/"
        }
      },
      "outputs": [
        {
          "output_type": "execute_result",
          "data": {
            "text/plain": [
              "float"
            ]
          },
          "metadata": {},
          "execution_count": 12
        }
      ],
      "source": [
        "type(e)"
      ]
    },
    {
      "cell_type": "markdown",
      "id": "a73b9c06",
      "metadata": {
        "id": "a73b9c06"
      },
      "source": [
        "We see that now, as we have used a variable with a commma (floating point), the type of the variable is not more ```int``` but ```float```. When we combine different variables, Python assumes we want to keep the most accurate result. So if we combine an integer and a float we get a float:"
      ]
    },
    {
      "cell_type": "code",
      "execution_count": 13,
      "id": "ee09f04f",
      "metadata": {
        "id": "ee09f04f",
        "outputId": "fb9100e4-f6a4-4899-cf95-e99d227e5a19",
        "colab": {
          "base_uri": "https://localhost:8080/"
        }
      },
      "outputs": [
        {
          "output_type": "execute_result",
          "data": {
            "text/plain": [
              "float"
            ]
          },
          "metadata": {},
          "execution_count": 13
        }
      ],
      "source": [
        "f = a + e\n",
        "type(f)"
      ]
    },
    {
      "cell_type": "markdown",
      "id": "e88067b9",
      "metadata": {
        "id": "e88067b9"
      },
      "source": [
        "## Simple operations\n",
        "\n",
        "We can apply all simple mathematical operations to these variables, like addition, subtraction, multiplication and division:"
      ]
    },
    {
      "cell_type": "code",
      "execution_count": 14,
      "id": "6a467126",
      "metadata": {
        "id": "6a467126",
        "outputId": "1e85e7f2-cbe4-40ab-aeb2-89d94c6ba837",
        "colab": {
          "base_uri": "https://localhost:8080/"
        }
      },
      "outputs": [
        {
          "output_type": "execute_result",
          "data": {
            "text/plain": [
              "20.0"
            ]
          },
          "metadata": {},
          "execution_count": 14
        }
      ],
      "source": [
        "a + b\n",
        "a - b\n",
        "a * b\n",
        "a / b"
      ]
    },
    {
      "cell_type": "markdown",
      "id": "304ab96a",
      "metadata": {
        "id": "304ab96a"
      },
      "source": [
        "In addition, we can also raise a number to a power using the `**` operator:"
      ]
    },
    {
      "cell_type": "code",
      "execution_count": 15,
      "id": "919a5eea",
      "metadata": {
        "id": "919a5eea",
        "outputId": "647bc4b9-0b3d-46c7-c085-22d06b465e7f",
        "colab": {
          "base_uri": "https://localhost:8080/"
        }
      },
      "outputs": [
        {
          "output_type": "execute_result",
          "data": {
            "text/plain": [
              "1000000"
            ]
          },
          "metadata": {},
          "execution_count": 15
        }
      ],
      "source": [
        "a ** 3"
      ]
    },
    {
      "cell_type": "markdown",
      "id": "af714553",
      "metadata": {
        "id": "af714553"
      },
      "source": [
        "# String variables\n",
        "\n",
        "After numbers, another very common type of variable is a string. A string is a sequence of characters, which can be letters, numbers or symbols. In Python we can define a string by using single quotes or double quotes:"
      ]
    },
    {
      "cell_type": "code",
      "execution_count": 16,
      "id": "0f036165-5fbf-420e-bbc3-7254f9206eba",
      "metadata": {
        "id": "0f036165-5fbf-420e-bbc3-7254f9206eba",
        "outputId": "b41655a8-46dc-4ee6-9809-0c457a62f65f",
        "colab": {
          "base_uri": "https://localhost:8080/",
          "height": 36
        }
      },
      "outputs": [
        {
          "output_type": "execute_result",
          "data": {
            "text/plain": [
              "'This is my text'"
            ],
            "application/vnd.google.colaboratory.intrinsic+json": {
              "type": "string"
            }
          },
          "metadata": {},
          "execution_count": 16
        }
      ],
      "source": [
        "my_text = 'This is my text'\n",
        "my_text"
      ]
    },
    {
      "cell_type": "code",
      "execution_count": 17,
      "id": "45ad9a74",
      "metadata": {
        "id": "45ad9a74",
        "outputId": "ce981282-6e67-40a8-caa6-bed58c6a9a50",
        "colab": {
          "base_uri": "https://localhost:8080/"
        }
      },
      "outputs": [
        {
          "output_type": "execute_result",
          "data": {
            "text/plain": [
              "str"
            ]
          },
          "metadata": {},
          "execution_count": 17
        }
      ],
      "source": [
        "type(my_text)"
      ]
    },
    {
      "cell_type": "markdown",
      "id": "7504233c",
      "metadata": {
        "id": "7504233c"
      },
      "source": [
        "Strings can be be combined with each other by using the ```+``` symbol:"
      ]
    },
    {
      "cell_type": "code",
      "execution_count": 18,
      "id": "760e57e7",
      "metadata": {
        "id": "760e57e7",
        "outputId": "46910c14-1ae1-4b37-e0ce-abe23bff0de6",
        "colab": {
          "base_uri": "https://localhost:8080/",
          "height": 36
        }
      },
      "outputs": [
        {
          "output_type": "execute_result",
          "data": {
            "text/plain": [
              "'This is my text and this is more text'"
            ],
            "application/vnd.google.colaboratory.intrinsic+json": {
              "type": "string"
            }
          },
          "metadata": {},
          "execution_count": 18
        }
      ],
      "source": [
        "my_text + ' and this is more text'"
      ]
    },
    {
      "cell_type": "markdown",
      "id": "3c32dbaf",
      "metadata": {
        "id": "3c32dbaf"
      },
      "source": [
        "We can also combine strings with numbers, but we need to convert the number to a string first:"
      ]
    },
    {
      "cell_type": "code",
      "execution_count": 19,
      "id": "74409259",
      "metadata": {
        "id": "74409259",
        "outputId": "99f60577-1369-4ed4-ee36-f17e8e8d2764",
        "colab": {
          "base_uri": "https://localhost:8080/"
        }
      },
      "outputs": [
        {
          "output_type": "execute_result",
          "data": {
            "text/plain": [
              "100"
            ]
          },
          "metadata": {},
          "execution_count": 19
        }
      ],
      "source": [
        "a"
      ]
    },
    {
      "cell_type": "code",
      "execution_count": 20,
      "id": "0f039711",
      "metadata": {
        "id": "0f039711",
        "outputId": "e7fd3ede-5f0a-49fc-e9ed-d523c63d98a6",
        "colab": {
          "base_uri": "https://localhost:8080/",
          "height": 36
        }
      },
      "outputs": [
        {
          "output_type": "execute_result",
          "data": {
            "text/plain": [
              "'This is my text100'"
            ],
            "application/vnd.google.colaboratory.intrinsic+json": {
              "type": "string"
            }
          },
          "metadata": {},
          "execution_count": 20
        }
      ],
      "source": [
        "my_text + str(a)"
      ]
    },
    {
      "cell_type": "markdown",
      "id": "78db9f64",
      "metadata": {
        "id": "78db9f64"
      },
      "source": [
        "## f-strings\n",
        "\n",
        "Combining text and variables as done above can often becomes complicated depending on the type of numbers. f-strigns offere us a very simple way of combininig text and variables together. We prepend our string with ```f``` and then we can enclose any variable into curly parenthesis ```{}```:"
      ]
    },
    {
      "cell_type": "code",
      "execution_count": 21,
      "id": "7a0e4ed8",
      "metadata": {
        "id": "7a0e4ed8",
        "outputId": "c9cad61f-8c19-4f51-9f73-747ae49dd6ce",
        "colab": {
          "base_uri": "https://localhost:8080/",
          "height": 36
        }
      },
      "outputs": [
        {
          "output_type": "execute_result",
          "data": {
            "text/plain": [
              "'the value of a is 100'"
            ],
            "application/vnd.google.colaboratory.intrinsic+json": {
              "type": "string"
            }
          },
          "metadata": {},
          "execution_count": 21
        }
      ],
      "source": [
        "f'the value of a is {a}'"
      ]
    },
    {
      "cell_type": "markdown",
      "id": "55f65a6f-bf8f-4ae4-a4af-095978a34440",
      "metadata": {
        "id": "55f65a6f-bf8f-4ae4-a4af-095978a34440"
      },
      "source": [
        "## Booleans\n",
        "\n",
        "The last type of variable introduced here is the boolean, a variable indicating just a binary values Yes/No, very useful for example to define conditions. In this case its value can be either ```True``` or ```False```. We can define it directly:"
      ]
    },
    {
      "cell_type": "code",
      "execution_count": 22,
      "id": "b2318542",
      "metadata": {
        "id": "b2318542"
      },
      "outputs": [],
      "source": [
        "mybool = True\n",
        "mybool2 = False"
      ]
    },
    {
      "cell_type": "markdown",
      "id": "5501b0ff",
      "metadata": {
        "id": "5501b0ff"
      },
      "source": [
        "or it can can be the value returned when doing a comparison, for example:"
      ]
    },
    {
      "cell_type": "code",
      "execution_count": 23,
      "id": "fa548c30",
      "metadata": {
        "id": "fa548c30",
        "outputId": "0727afc7-e56b-440e-db7a-553114c45e8d",
        "colab": {
          "base_uri": "https://localhost:8080/"
        }
      },
      "outputs": [
        {
          "output_type": "execute_result",
          "data": {
            "text/plain": [
              "True"
            ]
          },
          "metadata": {},
          "execution_count": 23
        }
      ],
      "source": [
        "a > 3"
      ]
    },
    {
      "cell_type": "markdown",
      "id": "a921c5f0",
      "metadata": {
        "id": "a921c5f0"
      },
      "source": [
        "We can save this output into a new boolan variable:"
      ]
    },
    {
      "cell_type": "code",
      "execution_count": 24,
      "id": "bc81e879",
      "metadata": {
        "id": "bc81e879",
        "outputId": "084c49fa-775a-4b4b-83a9-7c36135c6171",
        "colab": {
          "base_uri": "https://localhost:8080/"
        }
      },
      "outputs": [
        {
          "output_type": "execute_result",
          "data": {
            "text/plain": [
              "True"
            ]
          },
          "metadata": {},
          "execution_count": 24
        }
      ],
      "source": [
        "myresult = a > 3\n",
        "myresult"
      ]
    },
    {
      "cell_type": "markdown",
      "id": "1ce8009c-fa28-4cf0-93b6-2dd875b06c90",
      "metadata": {
        "id": "1ce8009c-fa28-4cf0-93b6-2dd875b06c90"
      },
      "source": [
        "## Exercises\n",
        "\n",
        "1. Create a variable `x` with the value 10, and another variable `y` with the value 20.5. Create a new variable `z` that is the sum of `x` and `y`.\n",
        "2. Print the value of `z` and its type.\n",
        "3. Create a variable `name` with your name as a string and a variable `age` with your age. Print a message that says \"Hello your-name>, you are your-age years old!\" using an f-string.\n",
        "3. Create a boolean variable by checking if you are older than 25."
      ]
    }
  ],
  "metadata": {
    "kernelspec": {
      "display_name": "DSPy2025",
      "language": "python",
      "name": "python3"
    },
    "language_info": {
      "codemirror_mode": {
        "name": "ipython",
        "version": 3
      },
      "file_extension": ".py",
      "mimetype": "text/x-python",
      "name": "python",
      "nbconvert_exporter": "python",
      "pygments_lexer": "ipython3",
      "version": "3.12.11"
    },
    "colab": {
      "provenance": [],
      "include_colab_link": true
    }
  },
  "nbformat": 4,
  "nbformat_minor": 5
}